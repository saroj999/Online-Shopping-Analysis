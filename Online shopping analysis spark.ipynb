{
 "cells": [
  {
   "cell_type": "code",
   "execution_count": 1,
   "id": "02bf915c",
   "metadata": {},
   "outputs": [],
   "source": [
    "import requests\n",
    "import pyspark\n",
    "from pyspark.sql.functions import split, col,substring,regexp_replace\n",
    "from pyspark.sql import SparkSession\n",
    "import pandas as pd\n",
    "from pyspark import SparkContext\n",
    "from pyspark.sql import SQLContext \n",
    "import pyspark.sql.functions as func\n",
    "from pyspark.sql.functions import isnull,when,count \n",
    "from pyspark.sql.functions import lower, col, lit\n",
    "from pyspark.sql import functions as f\n",
    "from pyspark.sql.functions import unix_timestamp, from_unixtime, date_format\n",
    "from pyspark.ml.feature import StringIndexer\n",
    "from pyspark.sql.functions import lit\n",
    "from pyspark.sql.types import StringType\n",
    "import findspark \n",
    "findspark.init() "
   ]
  },
  {
   "cell_type": "markdown",
   "id": "6e495949",
   "metadata": {},
   "source": [
    "To download Dataframe "
   ]
  },
  {
   "cell_type": "code",
   "execution_count": null,
   "id": "a74830f9",
   "metadata": {},
   "outputs": [],
   "source": [
    "#Downloaded dataframe from URL\n",
    "#url = 'https://archive.ics.uci.edu/ml/machine-learning-databases/00352/Online%20Retail.xlsx'\n",
    "#req_url = requests.get(url)\n",
    "#open('Online_shopping_analysis.xlsx', 'wb').write(req_url.content)"
   ]
  },
  {
   "cell_type": "code",
   "execution_count": null,
   "id": "0617d776",
   "metadata": {},
   "outputs": [],
   "source": [
    "#read excel file\n",
    "#df_excel = pd.read_excel('Online_shopping_analysis.xlsx')"
   ]
  },
  {
   "cell_type": "markdown",
   "id": "c97685c7",
   "metadata": {},
   "source": [
    "Conversion of Online_shopping_analysis Dataframe from Excel into CSV"
   ]
  },
  {
   "cell_type": "code",
   "execution_count": null,
   "id": "b4cad703",
   "metadata": {},
   "outputs": [],
   "source": [
    "#converting excel file into csv\n",
    "#df_excel.to_csv('Online_shopping_analysis.csv', index = None, header=True)"
   ]
  },
  {
   "cell_type": "code",
   "execution_count": 5,
   "id": "62eb7c10",
   "metadata": {},
   "outputs": [],
   "source": [
    "input_uri=\"mongodb://127.0.0.1/test.project_final\"\n",
    "output_uri=\"mongodb://127.0.0.1/test.project_final\"\n",
    "mongodb_spark_jars_path=\"/home/hduser/mongojars/\""
   ]
  },
  {
   "cell_type": "code",
   "execution_count": 6,
   "id": "d622b009",
   "metadata": {},
   "outputs": [
    {
     "name": "stderr",
     "output_type": "stream",
     "text": [
      "/home/hduser/.local/lib/python3.6/site-packages/pyspark/context.py:238: FutureWarning: Python 3.6 support is deprecated in Spark 3.2.\n",
      "  FutureWarning\n"
     ]
    }
   ],
   "source": [
    "spark=SparkSession.builder.appName(\"Project\")\\\n",
    "    .config(\"spark.mongodb.input.uri\",input_uri)\\\n",
    "    .config(\"spark.mongodb.output.uri\",output_uri)\\\n",
    "    .config(\"spark.jars\",\"\"+mongodb_spark_jars_path+\"mongo-spark-connector_2.12-3.0.1.jar,\"+mongodb_spark_jars_path+\"bson-4.0.5.jar,\"+mongodb_spark_jars_path+\"mongodb-driver-core-4.0.5.jar,\"+mongodb_spark_jars_path+\"mongodb-driver-sync-4.0.5.jar\")\\\n",
    "    .getOrCreate()"
   ]
  },
  {
   "cell_type": "code",
   "execution_count": 15,
   "id": "69d2073c",
   "metadata": {},
   "outputs": [],
   "source": [
    "Online_shopping_analysis_df = spark.read.option(\"delimiter\", \",\").option(\"Inferschema\",'true').option(\"header\",\"true\").csv(\"Online_shopping_analysis.csv\")"
   ]
  },
  {
   "cell_type": "code",
   "execution_count": 16,
   "id": "1fc8b08e",
   "metadata": {},
   "outputs": [
    {
     "name": "stdout",
     "output_type": "stream",
     "text": [
      "+---------+---------+--------------------+--------+-------------------+---------+----------+--------------+\n",
      "|InvoiceNo|StockCode|         Description|Quantity|        InvoiceDate|UnitPrice|CustomerID|       Country|\n",
      "+---------+---------+--------------------+--------+-------------------+---------+----------+--------------+\n",
      "|   536365|   85123A|WHITE HANGING HEA...|       6|2010-12-01 08:26:00|     2.55|   17850.0|United Kingdom|\n",
      "|   536365|    71053| WHITE METAL LANTERN|       6|2010-12-01 08:26:00|     3.39|   17850.0|United Kingdom|\n",
      "|   536365|   84406B|CREAM CUPID HEART...|       8|2010-12-01 08:26:00|     2.75|   17850.0|United Kingdom|\n",
      "|   536365|   84029G|KNITTED UNION FLA...|       6|2010-12-01 08:26:00|     3.39|   17850.0|United Kingdom|\n",
      "|   536365|   84029E|RED WOOLLY HOTTIE...|       6|2010-12-01 08:26:00|     3.39|   17850.0|United Kingdom|\n",
      "|   536365|    22752|SET 7 BABUSHKA NE...|       2|2010-12-01 08:26:00|     7.65|   17850.0|United Kingdom|\n",
      "|   536365|    21730|GLASS STAR FROSTE...|       6|2010-12-01 08:26:00|     4.25|   17850.0|United Kingdom|\n",
      "|   536366|    22633|HAND WARMER UNION...|       6|2010-12-01 08:28:00|     1.85|   17850.0|United Kingdom|\n",
      "|   536366|    22632|HAND WARMER RED P...|       6|2010-12-01 08:28:00|     1.85|   17850.0|United Kingdom|\n",
      "|   536367|    84879|ASSORTED COLOUR B...|      32|2010-12-01 08:34:00|     1.69|   13047.0|United Kingdom|\n",
      "|   536367|    22745|POPPY'S PLAYHOUSE...|       6|2010-12-01 08:34:00|      2.1|   13047.0|United Kingdom|\n",
      "|   536367|    22748|POPPY'S PLAYHOUSE...|       6|2010-12-01 08:34:00|      2.1|   13047.0|United Kingdom|\n",
      "|   536367|    22749|FELTCRAFT PRINCES...|       8|2010-12-01 08:34:00|     3.75|   13047.0|United Kingdom|\n",
      "|   536367|    22310|IVORY KNITTED MUG...|       6|2010-12-01 08:34:00|     1.65|   13047.0|United Kingdom|\n",
      "|   536367|    84969|BOX OF 6 ASSORTED...|       6|2010-12-01 08:34:00|     4.25|   13047.0|United Kingdom|\n",
      "|   536367|    22623|BOX OF VINTAGE JI...|       3|2010-12-01 08:34:00|     4.95|   13047.0|United Kingdom|\n",
      "|   536367|    22622|BOX OF VINTAGE AL...|       2|2010-12-01 08:34:00|     9.95|   13047.0|United Kingdom|\n",
      "|   536367|    21754|HOME BUILDING BLO...|       3|2010-12-01 08:34:00|     5.95|   13047.0|United Kingdom|\n",
      "|   536367|    21755|LOVE BUILDING BLO...|       3|2010-12-01 08:34:00|     5.95|   13047.0|United Kingdom|\n",
      "|   536367|    21777|RECIPE BOX WITH M...|       4|2010-12-01 08:34:00|     7.95|   13047.0|United Kingdom|\n",
      "+---------+---------+--------------------+--------+-------------------+---------+----------+--------------+\n",
      "only showing top 20 rows\n",
      "\n"
     ]
    }
   ],
   "source": [
    "Online_shopping_analysis_df.show()"
   ]
  },
  {
   "cell_type": "code",
   "execution_count": 17,
   "id": "0a09f25d",
   "metadata": {},
   "outputs": [
    {
     "name": "stdout",
     "output_type": "stream",
     "text": [
      "(541909, 8)\n"
     ]
    }
   ],
   "source": [
    "#Check count of rows and columns\n",
    "print((Online_shopping_analysis_df.count(), len(Online_shopping_analysis_df.columns)))"
   ]
  },
  {
   "cell_type": "code",
   "execution_count": 18,
   "id": "d4798e8a",
   "metadata": {},
   "outputs": [
    {
     "name": "stdout",
     "output_type": "stream",
     "text": [
      "+---------+---------+-----------+--------+-----------+---------+----------+-------+\n",
      "|InvoiceNo|StockCode|Description|Quantity|InvoiceDate|UnitPrice|CustomerID|Country|\n",
      "+---------+---------+-----------+--------+-----------+---------+----------+-------+\n",
      "|        0|        0|       1454|       0|          0|        0|    135080|      0|\n",
      "+---------+---------+-----------+--------+-----------+---------+----------+-------+\n",
      "\n"
     ]
    }
   ],
   "source": [
    "#To check null values present in dataframe\n",
    "Online_shopping_analysis_df.select([count(when(isnull(c),c)).alias(c) for c in Online_shopping_analysis_df.columns]).show()"
   ]
  },
  {
   "cell_type": "code",
   "execution_count": 19,
   "id": "109cc712",
   "metadata": {},
   "outputs": [],
   "source": [
    "#Removing null values\n",
    "remove_null = Online_shopping_analysis_df.dropna()"
   ]
  },
  {
   "cell_type": "code",
   "execution_count": 20,
   "id": "6426275f",
   "metadata": {},
   "outputs": [
    {
     "name": "stdout",
     "output_type": "stream",
     "text": [
      "+---------+---------+-----------+--------+-----------+---------+----------+-------+\n",
      "|InvoiceNo|StockCode|Description|Quantity|InvoiceDate|UnitPrice|CustomerID|Country|\n",
      "+---------+---------+-----------+--------+-----------+---------+----------+-------+\n",
      "|        0|        0|          0|       0|          0|        0|         0|      0|\n",
      "+---------+---------+-----------+--------+-----------+---------+----------+-------+\n",
      "\n"
     ]
    }
   ],
   "source": [
    "#all null, blank values are removed\n",
    "remove_null.select([count(when(isnull(c),c)).alias(c) for c in remove_null.columns]).show()"
   ]
  },
  {
   "cell_type": "code",
   "execution_count": 21,
   "id": "0e321671",
   "metadata": {},
   "outputs": [
    {
     "name": "stdout",
     "output_type": "stream",
     "text": [
      "(406829, 8)\n"
     ]
    }
   ],
   "source": [
    "#Check count of rows and columns\n",
    "print((remove_null.count(), len(remove_null.columns)))"
   ]
  },
  {
   "cell_type": "code",
   "execution_count": 22,
   "id": "11dbf203",
   "metadata": {},
   "outputs": [],
   "source": [
    "#Extracting non-zero and positive values from UnitPrice column\n",
    "extract_df = remove_null.filter((remove_null.UnitPrice != 0 ) | (remove_null.UnitPrice > 0))"
   ]
  },
  {
   "cell_type": "code",
   "execution_count": 23,
   "id": "32f40a33",
   "metadata": {},
   "outputs": [],
   "source": [
    "#Removing Duplicate rows\n",
    "distinct_rows = extract_df.distinct()"
   ]
  },
  {
   "cell_type": "code",
   "execution_count": 24,
   "id": "72257eed",
   "metadata": {},
   "outputs": [],
   "source": [
    "# Extracting positive quantity\n",
    "positive_qty = distinct_rows.filter(distinct_rows.Quantity > 0)"
   ]
  },
  {
   "cell_type": "code",
   "execution_count": 25,
   "id": "f16205c7",
   "metadata": {
    "scrolled": true
   },
   "outputs": [
    {
     "name": "stdout",
     "output_type": "stream",
     "text": [
      "+---------+---------+--------------------+--------+-------------------+---------+----------+--------------+-----+\n",
      "|InvoiceNo|StockCode|         Description|Quantity|        InvoiceDate|UnitPrice|CustomerID|       Country|Hours|\n",
      "+---------+---------+--------------------+--------+-------------------+---------+----------+--------------+-----+\n",
      "|   536408|    84879|ASSORTED COLOUR B...|       8|2010-12-01 11:41:00|     1.69|   14307.0|United Kingdom|   11|\n",
      "|   536409|    22074|6 RIBBONS SHIMMER...|       1|2010-12-01 11:45:00|     1.65|   17908.0|United Kingdom|   11|\n",
      "|   536409|   90199C|5 STRAND GLASS NE...|       2|2010-12-01 11:45:00|     6.35|   17908.0|United Kingdom|   11|\n",
      "|   536488|    22150|3 STRIPEY MICE FE...|       1|2010-12-01 12:31:00|     1.95|   17897.0|United Kingdom|   12|\n",
      "|   536522|    22566|FELTCRAFT HAIRBAN...|       1|2010-12-01 12:49:00|     0.85|   15012.0|United Kingdom|   12|\n",
      "|   536523|    21259|VICTORIAN SEWING ...|       2|2010-12-01 12:50:00|     5.95|   12868.0|United Kingdom|   12|\n",
      "|   536528|    22635|CHILDS BREAKFAST ...|       1|2010-12-01 13:17:00|     9.95|   15525.0|United Kingdom|   13|\n",
      "|   536539|    22173|METAL 4 HOOK HANG...|       8|2010-12-01 14:03:00|     2.95|   15165.0|United Kingdom|   14|\n",
      "|   536551|    22557|PLASTERS IN TIN V...|       1|2010-12-01 14:34:00|     1.65|   17346.0|United Kingdom|   14|\n",
      "|   536557|    20963|   APPLE BATH SPONGE|       1|2010-12-01 14:41:00|     1.25|   17841.0|United Kingdom|   14|\n",
      "|   536595|    21577|SAVE THE PLANET C...|       1|2010-12-01 17:24:00|     2.25|   13576.0|United Kingdom|   17|\n",
      "|   536611|    21915|RED  HARMONICA IN...|      12|2010-12-02 09:43:00|     1.25|   15752.0|United Kingdom|    9|\n",
      "|   536618|    22555|PLASTERS IN TIN S...|      24|2010-12-02 10:17:00|     1.65|   17017.0|United Kingdom|   10|\n",
      "|   536637|    22945|CHRISTMAS METAL T...|      12|2010-12-02 11:35:00|     0.85|   18041.0|United Kingdom|   11|\n",
      "|   536752|    21871| SAVE THE PLANET MUG|       6|2010-12-02 14:06:00|     1.06|   17850.0|United Kingdom|   14|\n",
      "|   536783|    48184|DOORMAT ENGLISH R...|      30|2010-12-02 15:19:00|     6.75|   15061.0|United Kingdom|   15|\n",
      "|   536790|    37370|RETRO COFFEE MUGS...|      12|2010-12-02 15:26:00|     1.06|   17850.0|United Kingdom|   15|\n",
      "|   536838|    15036|ASSORTED COLOURS ...|      24|2010-12-02 18:23:00|     0.75|   14865.0|United Kingdom|   18|\n",
      "|   536845|    20727|LUNCH BAG  BLACK ...|       1|2010-12-02 19:18:00|     1.65|   17961.0|United Kingdom|   19|\n",
      "|   536859|   85032D|YULETIDE IMAGES G...|       1|2010-12-03 10:43:00|      2.1|   12841.0|United Kingdom|   10|\n",
      "+---------+---------+--------------------+--------+-------------------+---------+----------+--------------+-----+\n",
      "only showing top 20 rows\n",
      "\n"
     ]
    }
   ],
   "source": [
    "#Extraction of Hours from date column\n",
    "hours_df=(positive_qty.withColumn(\"Hours\",f.hour(\"InvoiceDate\")))\n",
    "hours_df.show()"
   ]
  },
  {
   "cell_type": "code",
   "execution_count": 26,
   "id": "386e2370",
   "metadata": {},
   "outputs": [
    {
     "name": "stdout",
     "output_type": "stream",
     "text": [
      "+---------+---------+--------------------+--------+-----------+---------+----------+--------------+-----+\n",
      "|InvoiceNo|StockCode|         Description|Quantity|InvoiceDate|UnitPrice|CustomerID|       Country|Hours|\n",
      "+---------+---------+--------------------+--------+-----------+---------+----------+--------------+-----+\n",
      "|   536408|    84879|ASSORTED COLOUR B...|       8| 2010-12-01|     1.69|   14307.0|United Kingdom|   11|\n",
      "|   536409|    22074|6 RIBBONS SHIMMER...|       1| 2010-12-01|     1.65|   17908.0|United Kingdom|   11|\n",
      "|   536409|   90199C|5 STRAND GLASS NE...|       2| 2010-12-01|     6.35|   17908.0|United Kingdom|   11|\n",
      "|   536488|    22150|3 STRIPEY MICE FE...|       1| 2010-12-01|     1.95|   17897.0|United Kingdom|   12|\n",
      "|   536522|    22566|FELTCRAFT HAIRBAN...|       1| 2010-12-01|     0.85|   15012.0|United Kingdom|   12|\n",
      "|   536523|    21259|VICTORIAN SEWING ...|       2| 2010-12-01|     5.95|   12868.0|United Kingdom|   12|\n",
      "|   536528|    22635|CHILDS BREAKFAST ...|       1| 2010-12-01|     9.95|   15525.0|United Kingdom|   13|\n",
      "|   536539|    22173|METAL 4 HOOK HANG...|       8| 2010-12-01|     2.95|   15165.0|United Kingdom|   14|\n",
      "|   536551|    22557|PLASTERS IN TIN V...|       1| 2010-12-01|     1.65|   17346.0|United Kingdom|   14|\n",
      "|   536557|    20963|   APPLE BATH SPONGE|       1| 2010-12-01|     1.25|   17841.0|United Kingdom|   14|\n",
      "|   536595|    21577|SAVE THE PLANET C...|       1| 2010-12-01|     2.25|   13576.0|United Kingdom|   17|\n",
      "|   536611|    21915|RED  HARMONICA IN...|      12| 2010-12-02|     1.25|   15752.0|United Kingdom|    9|\n",
      "|   536618|    22555|PLASTERS IN TIN S...|      24| 2010-12-02|     1.65|   17017.0|United Kingdom|   10|\n",
      "|   536637|    22945|CHRISTMAS METAL T...|      12| 2010-12-02|     0.85|   18041.0|United Kingdom|   11|\n",
      "|   536752|    21871| SAVE THE PLANET MUG|       6| 2010-12-02|     1.06|   17850.0|United Kingdom|   14|\n",
      "|   536783|    48184|DOORMAT ENGLISH R...|      30| 2010-12-02|     6.75|   15061.0|United Kingdom|   15|\n",
      "|   536790|    37370|RETRO COFFEE MUGS...|      12| 2010-12-02|     1.06|   17850.0|United Kingdom|   15|\n",
      "|   536838|    15036|ASSORTED COLOURS ...|      24| 2010-12-02|     0.75|   14865.0|United Kingdom|   18|\n",
      "|   536845|    20727|LUNCH BAG  BLACK ...|       1| 2010-12-02|     1.65|   17961.0|United Kingdom|   19|\n",
      "|   536859|   85032D|YULETIDE IMAGES G...|       1| 2010-12-03|      2.1|   12841.0|United Kingdom|   10|\n",
      "+---------+---------+--------------------+--------+-----------+---------+----------+--------------+-----+\n",
      "only showing top 20 rows\n",
      "\n"
     ]
    }
   ],
   "source": [
    "#Extraction of date in the format of YYYY-mm-dd from date column\n",
    "date_df = (hours_df.withColumn(\"InvoiceDate\",f.to_date(\"InvoiceDate\")))\n",
    "date_df.show()"
   ]
  },
  {
   "cell_type": "code",
   "execution_count": 27,
   "id": "dca7f37d",
   "metadata": {},
   "outputs": [
    {
     "name": "stdout",
     "output_type": "stream",
     "text": [
      "root\n",
      " |-- InvoiceNo: string (nullable = true)\n",
      " |-- StockCode: string (nullable = true)\n",
      " |-- Description: string (nullable = true)\n",
      " |-- Quantity: integer (nullable = true)\n",
      " |-- InvoiceDate: date (nullable = true)\n",
      " |-- UnitPrice: double (nullable = true)\n",
      " |-- CustomerID: double (nullable = true)\n",
      " |-- Country: string (nullable = true)\n",
      " |-- Hours: integer (nullable = true)\n",
      " |-- year: integer (nullable = true)\n",
      " |-- month: integer (nullable = true)\n",
      " |-- dayofmonth: integer (nullable = true)\n",
      " |-- dayofweek: integer (nullable = true)\n",
      " |-- dayofyear: integer (nullable = true)\n",
      " |-- weekofyear: integer (nullable = true)\n",
      "\n"
     ]
    }
   ],
   "source": [
    "#Extracting features from date\n",
    "date_df=(date_df.withColumn(\"year\",f.year(\"InvoiceDate\")))\n",
    "date_df=(date_df.withColumn(\"month\",f.month(\"InvoiceDate\")))\n",
    "date_df=(date_df.withColumn(\"dayofmonth\",f.dayofmonth(\"InvoiceDate\")))\n",
    "date_df=(date_df.withColumn(\"dayofweek\",f.dayofweek(\"InvoiceDate\")))\n",
    "date_df=(date_df.withColumn(\"dayofyear\",f.dayofyear(\"InvoiceDate\")))\n",
    "date_df=(date_df.withColumn(\"weekofyear\",f.weekofyear(\"InvoiceDate\")))\n",
    "date_df.printSchema()"
   ]
  },
  {
   "cell_type": "code",
   "execution_count": 28,
   "id": "35e8b9ca",
   "metadata": {},
   "outputs": [
    {
     "name": "stdout",
     "output_type": "stream",
     "text": [
      "+---------+---------+--------------------+--------+-----------+---------+----------+--------------+-----+----+-----+----------+---------+---------+----------+\n",
      "|InvoiceNo|StockCode|         Description|Quantity|InvoiceDate|UnitPrice|CustomerID|       Country|Hours|year|month|dayofmonth|dayofweek|dayofyear|weekofyear|\n",
      "+---------+---------+--------------------+--------+-----------+---------+----------+--------------+-----+----+-----+----------+---------+---------+----------+\n",
      "|   536408|    84879|ASSORTED COLOUR B...|       8| 2010-12-01|     1.69|   14307.0|United Kingdom|   11|2010|   12|         1|        4|      335|        48|\n",
      "|   536409|    22074|6 RIBBONS SHIMMER...|       1| 2010-12-01|     1.65|   17908.0|United Kingdom|   11|2010|   12|         1|        4|      335|        48|\n",
      "|   536409|   90199C|5 STRAND GLASS NE...|       2| 2010-12-01|     6.35|   17908.0|United Kingdom|   11|2010|   12|         1|        4|      335|        48|\n",
      "|   536488|    22150|3 STRIPEY MICE FE...|       1| 2010-12-01|     1.95|   17897.0|United Kingdom|   12|2010|   12|         1|        4|      335|        48|\n",
      "|   536522|    22566|FELTCRAFT HAIRBAN...|       1| 2010-12-01|     0.85|   15012.0|United Kingdom|   12|2010|   12|         1|        4|      335|        48|\n",
      "|   536523|    21259|VICTORIAN SEWING ...|       2| 2010-12-01|     5.95|   12868.0|United Kingdom|   12|2010|   12|         1|        4|      335|        48|\n",
      "|   536528|    22635|CHILDS BREAKFAST ...|       1| 2010-12-01|     9.95|   15525.0|United Kingdom|   13|2010|   12|         1|        4|      335|        48|\n",
      "|   536539|    22173|METAL 4 HOOK HANG...|       8| 2010-12-01|     2.95|   15165.0|United Kingdom|   14|2010|   12|         1|        4|      335|        48|\n",
      "|   536551|    22557|PLASTERS IN TIN V...|       1| 2010-12-01|     1.65|   17346.0|United Kingdom|   14|2010|   12|         1|        4|      335|        48|\n",
      "|   536557|    20963|   APPLE BATH SPONGE|       1| 2010-12-01|     1.25|   17841.0|United Kingdom|   14|2010|   12|         1|        4|      335|        48|\n",
      "|   536595|    21577|SAVE THE PLANET C...|       1| 2010-12-01|     2.25|   13576.0|United Kingdom|   17|2010|   12|         1|        4|      335|        48|\n",
      "|   536611|    21915|RED  HARMONICA IN...|      12| 2010-12-02|     1.25|   15752.0|United Kingdom|    9|2010|   12|         2|        5|      336|        48|\n",
      "|   536618|    22555|PLASTERS IN TIN S...|      24| 2010-12-02|     1.65|   17017.0|United Kingdom|   10|2010|   12|         2|        5|      336|        48|\n",
      "|   536637|    22945|CHRISTMAS METAL T...|      12| 2010-12-02|     0.85|   18041.0|United Kingdom|   11|2010|   12|         2|        5|      336|        48|\n",
      "|   536752|    21871| SAVE THE PLANET MUG|       6| 2010-12-02|     1.06|   17850.0|United Kingdom|   14|2010|   12|         2|        5|      336|        48|\n",
      "|   536783|    48184|DOORMAT ENGLISH R...|      30| 2010-12-02|     6.75|   15061.0|United Kingdom|   15|2010|   12|         2|        5|      336|        48|\n",
      "|   536790|    37370|RETRO COFFEE MUGS...|      12| 2010-12-02|     1.06|   17850.0|United Kingdom|   15|2010|   12|         2|        5|      336|        48|\n",
      "|   536838|    15036|ASSORTED COLOURS ...|      24| 2010-12-02|     0.75|   14865.0|United Kingdom|   18|2010|   12|         2|        5|      336|        48|\n",
      "|   536845|    20727|LUNCH BAG  BLACK ...|       1| 2010-12-02|     1.65|   17961.0|United Kingdom|   19|2010|   12|         2|        5|      336|        48|\n",
      "|   536859|   85032D|YULETIDE IMAGES G...|       1| 2010-12-03|      2.1|   12841.0|United Kingdom|   10|2010|   12|         3|        6|      337|        48|\n",
      "+---------+---------+--------------------+--------+-----------+---------+----------+--------------+-----+----+-----+----------+---------+---------+----------+\n",
      "only showing top 20 rows\n",
      "\n"
     ]
    }
   ],
   "source": [
    "date_df.show()"
   ]
  },
  {
   "cell_type": "code",
   "execution_count": 29,
   "id": "9751427b",
   "metadata": {},
   "outputs": [],
   "source": [
    "#remove \"Unspecified\" country from country column\n",
    "remove_Unspecified = date_df.filter((date_df.Country != 'Unspecified' ))"
   ]
  },
  {
   "cell_type": "code",
   "execution_count": 30,
   "id": "97b8c5ad",
   "metadata": {},
   "outputs": [],
   "source": [
    "#Replacing country column values Channel Islands & European Community with one of the country names\n",
    "replace_country = remove_Unspecified.na.replace(['Channel Islands','European Community'], ['Jersey','Germany'], 'Country')"
   ]
  },
  {
   "cell_type": "code",
   "execution_count": 31,
   "id": "ef969b05",
   "metadata": {
    "scrolled": true
   },
   "outputs": [],
   "source": [
    "#created totalprice column by doing product of Quantity & UnitPrice\n",
    "totalprice = replace_country.select(\"*\",(col(\"Quantity\") * col(\"UnitPrice\")).alias(\"Total_Price\"))"
   ]
  },
  {
   "cell_type": "code",
   "execution_count": 32,
   "id": "1534fe1a",
   "metadata": {},
   "outputs": [
    {
     "data": {
      "text/plain": [
       "['InvoiceNo',\n",
       " 'StockCode',\n",
       " 'Description',\n",
       " 'Quantity',\n",
       " 'InvoiceDate',\n",
       " 'UnitPrice',\n",
       " 'CustomerID',\n",
       " 'Country',\n",
       " 'Hours',\n",
       " 'year',\n",
       " 'month',\n",
       " 'dayofmonth',\n",
       " 'dayofweek',\n",
       " 'dayofyear',\n",
       " 'weekofyear',\n",
       " 'Total_Price']"
      ]
     },
     "execution_count": 32,
     "metadata": {},
     "output_type": "execute_result"
    }
   ],
   "source": [
    "#Checking total columns \n",
    "totalprice.columns"
   ]
  },
  {
   "cell_type": "code",
   "execution_count": 33,
   "id": "a70b6338",
   "metadata": {},
   "outputs": [
    {
     "data": {
      "text/plain": [
       "392451"
      ]
     },
     "execution_count": 33,
     "metadata": {},
     "output_type": "execute_result"
    }
   ],
   "source": [
    "#checking count of rows after processing\n",
    "totalprice.count()"
   ]
  },
  {
   "cell_type": "code",
   "execution_count": null,
   "id": "83dd1b02",
   "metadata": {},
   "outputs": [],
   "source": []
  },
  {
   "cell_type": "markdown",
   "id": "779bb869",
   "metadata": {},
   "source": [
    "# Extraction of public_holidays Dataframe into CSV"
   ]
  },
  {
   "cell_type": "code",
   "execution_count": 2,
   "id": "64ebcb2a",
   "metadata": {},
   "outputs": [
    {
     "data": {
      "text/plain": [
       "245112"
      ]
     },
     "execution_count": 2,
     "metadata": {},
     "output_type": "execute_result"
    }
   ],
   "source": [
    "#Downloaded datafreame from URL\n",
    "url = 'https://data.worldpop.org/GIS/Holiday_Data/public_holidays/public_holidays_2010_2019.zip'\n",
    "req = requests.get(url)\n",
    "open('public_holidays_2010_2019.zip', 'wb').write(req.content)"
   ]
  },
  {
   "cell_type": "code",
   "execution_count": 3,
   "id": "2b9d7b18",
   "metadata": {},
   "outputs": [
    {
     "name": "stdout",
     "output_type": "stream",
     "text": [
      "File Name                                             Modified             Size\n",
      "public_holidays_2010_2019.csv                  2019-11-25 22:48:54      2550319\n"
     ]
    }
   ],
   "source": [
    "# importing required modules\n",
    "from zipfile import ZipFile\n",
    "  \n",
    "# specifying the zip file name\n",
    "file_name = \"public_holidays_2010_2019.zip\"\n",
    "  \n",
    "# opening the zip file in READ mode\n",
    "with ZipFile(file_name, 'r') as zip:\n",
    "    # printing all the contents of the zip file\n",
    "    zip.printdir()\n",
    "  \n",
    "    # extracting all the files\n",
    "    zip.extractall()\n"
   ]
  },
  {
   "cell_type": "code",
   "execution_count": 7,
   "id": "b32b5065",
   "metadata": {},
   "outputs": [],
   "source": [
    "public_holidays_df = spark.read.option(\"delimiter\", \",\").option(\"Inferschema\",'true').option(\"header\",\"true\").csv(\"public_holidays_2010_2019.csv\")"
   ]
  },
  {
   "cell_type": "code",
   "execution_count": 8,
   "id": "22c6e109",
   "metadata": {},
   "outputs": [
    {
     "name": "stdout",
     "output_type": "stream",
     "text": [
      "root\n",
      " |-- ADM_name: string (nullable = true)\n",
      " |-- ISO3: string (nullable = true)\n",
      " |-- Date: string (nullable = true)\n",
      " |-- Name: string (nullable = true)\n",
      " |-- Type: string (nullable = true)\n",
      "\n"
     ]
    }
   ],
   "source": [
    "public_holidays_df.printSchema()"
   ]
  },
  {
   "cell_type": "code",
   "execution_count": 9,
   "id": "8ee4568a",
   "metadata": {
    "scrolled": true
   },
   "outputs": [
    {
     "name": "stdout",
     "output_type": "stream",
     "text": [
      "+--------+----+----------+--------------------+--------------+\n",
      "|ADM_name|ISO3|      Date|                Name|          Type|\n",
      "+--------+----+----------+--------------------+--------------+\n",
      "|   Aruba| ABW|01/01/2010|      New Year's Day|Public holiday|\n",
      "|   Aruba| ABW|25/01/2010|Betico Croes' Bir...|Public holiday|\n",
      "|   Aruba| ABW|15/02/2010|     Carnival Monday|Public holiday|\n",
      "|   Aruba| ABW|18/03/2010|National Anthem a...|Public holiday|\n",
      "|   Aruba| ABW|02/04/2010|         Good Friday|Public holiday|\n",
      "|   Aruba| ABW|05/04/2010|       Easter Monday|Public holiday|\n",
      "|   Aruba| ABW|27/04/2010|          King's Day|Public holiday|\n",
      "|   Aruba| ABW|01/05/2010|           Labor Day|Public holiday|\n",
      "|   Aruba| ABW|13/05/2010|       Ascension Day|Public holiday|\n",
      "|   Aruba| ABW|25/12/2010|       Christmas Day|Public holiday|\n",
      "|   Aruba| ABW|26/12/2010|          Boxing Day|Public holiday|\n",
      "|   Aruba| ABW|01/01/2011|      New Year's Day|Public holiday|\n",
      "|   Aruba| ABW|25/01/2011|Betico Croes' Bir...|Public holiday|\n",
      "|   Aruba| ABW|07/03/2011|     Carnival Monday|Public holiday|\n",
      "|   Aruba| ABW|18/03/2011|National Anthem a...|Public holiday|\n",
      "|   Aruba| ABW|22/04/2011|         Good Friday|Public holiday|\n",
      "|   Aruba| ABW|25/04/2011|       Easter Monday|Public holiday|\n",
      "|   Aruba| ABW|27/04/2011|          King's Day|Public holiday|\n",
      "|   Aruba| ABW|01/05/2011|           Labor Day|Public holiday|\n",
      "|   Aruba| ABW|02/06/2011|       Ascension Day|Public holiday|\n",
      "+--------+----+----------+--------------------+--------------+\n",
      "only showing top 20 rows\n",
      "\n"
     ]
    }
   ],
   "source": [
    "public_holidays_df.show()"
   ]
  },
  {
   "cell_type": "code",
   "execution_count": 10,
   "id": "3573d40b",
   "metadata": {},
   "outputs": [
    {
     "name": "stdout",
     "output_type": "stream",
     "text": [
      "+--------+----+----+----+----+\n",
      "|ADM_name|ISO3|Date|Name|Type|\n",
      "+--------+----+----+----+----+\n",
      "|       0|   0|   0|   0|   0|\n",
      "+--------+----+----+----+----+\n",
      "\n"
     ]
    }
   ],
   "source": [
    "#To check null values present in dataframe\n",
    "public_holidays_df.select([count(when(isnull(c),c)).alias(c) for c in public_holidays_df.columns]).show()"
   ]
  },
  {
   "cell_type": "code",
   "execution_count": 11,
   "id": "62e581cc",
   "metadata": {},
   "outputs": [],
   "source": [
    "#Drop columns ISO3 & Name\n",
    "columns_to_drop = ['ISO3', 'Name']\n",
    "column_drop= public_holidays_df.drop(*columns_to_drop)"
   ]
  },
  {
   "cell_type": "code",
   "execution_count": 12,
   "id": "79f6234d",
   "metadata": {},
   "outputs": [],
   "source": [
    "#creating function for date conversion\n",
    "from datetime import datetime\n",
    "import pyspark.sql.types as T\n",
    "import pyspark.sql.functions as F\n",
    "\n",
    "\n",
    "def udf_timestamp(Date):\n",
    "    _date = datetime.strptime(Date, '%d/%m/%Y')\n",
    "    return _date.strftime('%Y-%m-%d')\n",
    "\n",
    "udf_date = F.udf(udf_timestamp, T.StringType())"
   ]
  },
  {
   "cell_type": "code",
   "execution_count": 14,
   "id": "29bcd71d",
   "metadata": {},
   "outputs": [
    {
     "name": "stdout",
     "output_type": "stream",
     "text": [
      "+--------+----------+--------------+\n",
      "|ADM_name|      Date|          Type|\n",
      "+--------+----------+--------------+\n",
      "|   Aruba|2010-01-01|Public holiday|\n",
      "|   Aruba|2010-01-25|Public holiday|\n",
      "|   Aruba|2010-02-15|Public holiday|\n",
      "|   Aruba|2010-03-18|Public holiday|\n",
      "|   Aruba|2010-04-02|Public holiday|\n",
      "|   Aruba|2010-04-05|Public holiday|\n",
      "|   Aruba|2010-04-27|Public holiday|\n",
      "|   Aruba|2010-05-01|Public holiday|\n",
      "|   Aruba|2010-05-13|Public holiday|\n",
      "|   Aruba|2010-12-25|Public holiday|\n",
      "|   Aruba|2010-12-26|Public holiday|\n",
      "|   Aruba|2011-01-01|Public holiday|\n",
      "|   Aruba|2011-01-25|Public holiday|\n",
      "|   Aruba|2011-03-07|Public holiday|\n",
      "|   Aruba|2011-03-18|Public holiday|\n",
      "|   Aruba|2011-04-22|Public holiday|\n",
      "|   Aruba|2011-04-25|Public holiday|\n",
      "|   Aruba|2011-04-27|Public holiday|\n",
      "|   Aruba|2011-05-01|Public holiday|\n",
      "|   Aruba|2011-06-02|Public holiday|\n",
      "+--------+----------+--------------+\n",
      "only showing top 20 rows\n",
      "\n"
     ]
    }
   ],
   "source": [
    "#change date format from dd/mm/YYYY to YYYY-mm-dd\n",
    "date_conversion = column_drop.withColumn('Date', udf_date('Date'))\n",
    "date_conversion.show()"
   ]
  },
  {
   "cell_type": "code",
   "execution_count": 34,
   "id": "7285f3c0",
   "metadata": {},
   "outputs": [],
   "source": [
    "#Extracting data from 2010-12-01 to 2011-12-09\n",
    "extract_date = date_conversion.filter(F.col(\"Date\").between('2010-12-01','2011-12-09'))"
   ]
  },
  {
   "cell_type": "code",
   "execution_count": 35,
   "id": "8d300846",
   "metadata": {},
   "outputs": [],
   "source": [
    "#replace country names\n",
    "ADM_name_replace = extract_date.na.replace(['Ukraine', 'Uk', 'Ireland','Czech','Hong-kong','Russia','Saudi-arabia','United-arab-emirates'], ['Ukraine', 'United Kingdom','EIRE','Czech Republic','Hong Kong','RSA','Saudi Arabia','United Arab Emirates'], 'ADM_name')"
   ]
  },
  {
   "cell_type": "code",
   "execution_count": 36,
   "id": "baa4579a",
   "metadata": {},
   "outputs": [],
   "source": [
    "#replacing types of holidays into \"Holiday\"\n",
    "replace_Type = ADM_name_replace.withColumn(\"Type\", F.when((F.col(\"Type\").isin(\"Public holiday\",\"Half-day holiday\",\"Local holiday\",\"Local observance\",\"Observance\",\"Special holiday\")),\"Holiday\"))"
   ]
  },
  {
   "cell_type": "code",
   "execution_count": 39,
   "id": "05965a89",
   "metadata": {},
   "outputs": [],
   "source": [
    "#Merging two datasets\n",
    "New_df = [totalprice.Country == replace_Type.ADM_name, totalprice.InvoiceDate == replace_Type.Date]\n",
    "merged_df = totalprice.join(replace_Type, New_df, 'leftouter')"
   ]
  },
  {
   "cell_type": "code",
   "execution_count": 40,
   "id": "8f3974a7",
   "metadata": {},
   "outputs": [
    {
     "name": "stdout",
     "output_type": "stream",
     "text": [
      "root\n",
      " |-- InvoiceNo: string (nullable = true)\n",
      " |-- StockCode: string (nullable = true)\n",
      " |-- Description: string (nullable = true)\n",
      " |-- Quantity: integer (nullable = true)\n",
      " |-- InvoiceDate: date (nullable = true)\n",
      " |-- UnitPrice: double (nullable = true)\n",
      " |-- CustomerID: double (nullable = true)\n",
      " |-- Country: string (nullable = true)\n",
      " |-- Hours: integer (nullable = true)\n",
      " |-- year: integer (nullable = true)\n",
      " |-- month: integer (nullable = true)\n",
      " |-- dayofmonth: integer (nullable = true)\n",
      " |-- dayofweek: integer (nullable = true)\n",
      " |-- dayofyear: integer (nullable = true)\n",
      " |-- weekofyear: integer (nullable = true)\n",
      " |-- Total_Price: double (nullable = true)\n",
      " |-- ADM_name: string (nullable = true)\n",
      " |-- Date: string (nullable = true)\n",
      " |-- Type: string (nullable = true)\n",
      "\n"
     ]
    }
   ],
   "source": [
    "merged_df.printSchema()"
   ]
  },
  {
   "cell_type": "code",
   "execution_count": null,
   "id": "b15aa363",
   "metadata": {},
   "outputs": [],
   "source": [
    "#Replacing null values with weekday\n",
    "weekday_df = merged_df.na.fill(value=\"WeekDay\",subset=[\"Type\"])"
   ]
  },
  {
   "cell_type": "code",
   "execution_count": null,
   "id": "81421c96",
   "metadata": {},
   "outputs": [],
   "source": [
    "#creating dataset for machine learning & powerBI\n",
    "final_df = weekday_df.drop('ADM_name','Date')"
   ]
  },
  {
   "cell_type": "code",
   "execution_count": null,
   "id": "f5486e0c",
   "metadata": {},
   "outputs": [],
   "source": [
    "#Dumping data in the mongoDB\n",
    "final_df.write.format(\"com.mongodb.spark.sql.DefaultSource\").option(\"collection\", \"project_final\").mode(\"Overwrite\").save()"
   ]
  },
  {
   "cell_type": "code",
   "execution_count": null,
   "id": "26a5bb74",
   "metadata": {},
   "outputs": [],
   "source": []
  }
 ],
 "metadata": {
  "kernelspec": {
   "display_name": "Python 3",
   "language": "python",
   "name": "python3"
  },
  "language_info": {
   "codemirror_mode": {
    "name": "ipython",
    "version": 3
   },
   "file_extension": ".py",
   "mimetype": "text/x-python",
   "name": "python",
   "nbconvert_exporter": "python",
   "pygments_lexer": "ipython3",
   "version": "3.6.5"
  }
 },
 "nbformat": 4,
 "nbformat_minor": 5
}
